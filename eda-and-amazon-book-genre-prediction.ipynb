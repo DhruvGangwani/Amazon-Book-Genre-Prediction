{
 "cells": [
  {
   "cell_type": "code",
   "execution_count": 1,
   "metadata": {
    "_cell_guid": "b1076dfc-b9ad-4769-8c92-a6c4dae69d19",
    "_uuid": "8f2839f25d086af736a60e9eeb907d3b93b6e0e5",
    "execution": {
     "iopub.execute_input": "2020-11-25T10:26:43.011614Z",
     "iopub.status.busy": "2020-11-25T10:26:43.010817Z",
     "iopub.status.idle": "2020-11-25T10:26:43.913609Z",
     "shell.execute_reply": "2020-11-25T10:26:43.912440Z"
    },
    "papermill": {
     "duration": 0.941628,
     "end_time": "2020-11-25T10:26:43.913739",
     "exception": false,
     "start_time": "2020-11-25T10:26:42.972111",
     "status": "completed"
    },
    "tags": []
   },
   "outputs": [],
   "source": [
    "import numpy as np \n",
    "import pandas as pd \n",
    "import seaborn as sns\n",
    "import matplotlib.pyplot as plt"
   ]
  },
  {
   "cell_type": "markdown",
   "metadata": {
    "papermill": {
     "duration": 0.03258,
     "end_time": "2020-11-25T10:26:43.979751",
     "exception": false,
     "start_time": "2020-11-25T10:26:43.947171",
     "status": "completed"
    },
    "tags": []
   },
   "source": [
    "# Import Dataset"
   ]
  },
  {
   "cell_type": "code",
   "execution_count": 2,
   "metadata": {
    "_cell_guid": "79c7e3d0-c299-4dcb-8224-4455121ee9b0",
    "_uuid": "d629ff2d2480ee46fbb7e2d37f6b5fab8052498a",
    "execution": {
     "iopub.execute_input": "2020-11-25T10:26:44.053410Z",
     "iopub.status.busy": "2020-11-25T10:26:44.052188Z",
     "iopub.status.idle": "2020-11-25T10:26:44.098105Z",
     "shell.execute_reply": "2020-11-25T10:26:44.098725Z"
    },
    "papermill": {
     "duration": 0.086911,
     "end_time": "2020-11-25T10:26:44.098873",
     "exception": false,
     "start_time": "2020-11-25T10:26:44.011962",
     "status": "completed"
    },
    "tags": []
   },
   "outputs": [
    {
     "data": {
      "text/html": [
       "<div>\n",
       "<style scoped>\n",
       "    .dataframe tbody tr th:only-of-type {\n",
       "        vertical-align: middle;\n",
       "    }\n",
       "\n",
       "    .dataframe tbody tr th {\n",
       "        vertical-align: top;\n",
       "    }\n",
       "\n",
       "    .dataframe thead th {\n",
       "        text-align: right;\n",
       "    }\n",
       "</style>\n",
       "<table border=\"1\" class=\"dataframe\">\n",
       "  <thead>\n",
       "    <tr style=\"text-align: right;\">\n",
       "      <th></th>\n",
       "      <th>User Rating</th>\n",
       "      <th>Reviews</th>\n",
       "      <th>Price</th>\n",
       "      <th>Year</th>\n",
       "    </tr>\n",
       "  </thead>\n",
       "  <tbody>\n",
       "    <tr>\n",
       "      <th>count</th>\n",
       "      <td>550.000000</td>\n",
       "      <td>550.000000</td>\n",
       "      <td>550.000000</td>\n",
       "      <td>550.000000</td>\n",
       "    </tr>\n",
       "    <tr>\n",
       "      <th>mean</th>\n",
       "      <td>4.618364</td>\n",
       "      <td>11953.281818</td>\n",
       "      <td>13.100000</td>\n",
       "      <td>2014.000000</td>\n",
       "    </tr>\n",
       "    <tr>\n",
       "      <th>std</th>\n",
       "      <td>0.226980</td>\n",
       "      <td>11731.132017</td>\n",
       "      <td>10.842262</td>\n",
       "      <td>3.165156</td>\n",
       "    </tr>\n",
       "    <tr>\n",
       "      <th>min</th>\n",
       "      <td>3.300000</td>\n",
       "      <td>37.000000</td>\n",
       "      <td>0.000000</td>\n",
       "      <td>2009.000000</td>\n",
       "    </tr>\n",
       "    <tr>\n",
       "      <th>25%</th>\n",
       "      <td>4.500000</td>\n",
       "      <td>4058.000000</td>\n",
       "      <td>7.000000</td>\n",
       "      <td>2011.000000</td>\n",
       "    </tr>\n",
       "    <tr>\n",
       "      <th>50%</th>\n",
       "      <td>4.700000</td>\n",
       "      <td>8580.000000</td>\n",
       "      <td>11.000000</td>\n",
       "      <td>2014.000000</td>\n",
       "    </tr>\n",
       "    <tr>\n",
       "      <th>75%</th>\n",
       "      <td>4.800000</td>\n",
       "      <td>17253.250000</td>\n",
       "      <td>16.000000</td>\n",
       "      <td>2017.000000</td>\n",
       "    </tr>\n",
       "    <tr>\n",
       "      <th>max</th>\n",
       "      <td>4.900000</td>\n",
       "      <td>87841.000000</td>\n",
       "      <td>105.000000</td>\n",
       "      <td>2019.000000</td>\n",
       "    </tr>\n",
       "  </tbody>\n",
       "</table>\n",
       "</div>"
      ],
      "text/plain": [
       "       User Rating       Reviews       Price         Year\n",
       "count   550.000000    550.000000  550.000000   550.000000\n",
       "mean      4.618364  11953.281818   13.100000  2014.000000\n",
       "std       0.226980  11731.132017   10.842262     3.165156\n",
       "min       3.300000     37.000000    0.000000  2009.000000\n",
       "25%       4.500000   4058.000000    7.000000  2011.000000\n",
       "50%       4.700000   8580.000000   11.000000  2014.000000\n",
       "75%       4.800000  17253.250000   16.000000  2017.000000\n",
       "max       4.900000  87841.000000  105.000000  2019.000000"
      ]
     },
     "execution_count": 2,
     "metadata": {},
     "output_type": "execute_result"
    }
   ],
   "source": [
    "data = pd.read_csv('/kaggle/input/amazon-top-50-bestselling-books-2009-2019/bestsellers with categories.csv')\n",
    "data.describe()"
   ]
  },
  {
   "cell_type": "code",
   "execution_count": 3,
   "metadata": {
    "execution": {
     "iopub.execute_input": "2020-11-25T10:26:44.180301Z",
     "iopub.status.busy": "2020-11-25T10:26:44.179247Z",
     "iopub.status.idle": "2020-11-25T10:26:44.183438Z",
     "shell.execute_reply": "2020-11-25T10:26:44.184006Z"
    },
    "papermill": {
     "duration": 0.050642,
     "end_time": "2020-11-25T10:26:44.184136",
     "exception": false,
     "start_time": "2020-11-25T10:26:44.133494",
     "status": "completed"
    },
    "tags": []
   },
   "outputs": [
    {
     "data": {
      "text/html": [
       "<div>\n",
       "<style scoped>\n",
       "    .dataframe tbody tr th:only-of-type {\n",
       "        vertical-align: middle;\n",
       "    }\n",
       "\n",
       "    .dataframe tbody tr th {\n",
       "        vertical-align: top;\n",
       "    }\n",
       "\n",
       "    .dataframe thead th {\n",
       "        text-align: right;\n",
       "    }\n",
       "</style>\n",
       "<table border=\"1\" class=\"dataframe\">\n",
       "  <thead>\n",
       "    <tr style=\"text-align: right;\">\n",
       "      <th></th>\n",
       "      <th>Name</th>\n",
       "      <th>Author</th>\n",
       "      <th>User Rating</th>\n",
       "      <th>Reviews</th>\n",
       "      <th>Price</th>\n",
       "      <th>Year</th>\n",
       "      <th>Genre</th>\n",
       "    </tr>\n",
       "  </thead>\n",
       "  <tbody>\n",
       "    <tr>\n",
       "      <th>0</th>\n",
       "      <td>10-Day Green Smoothie Cleanse</td>\n",
       "      <td>JJ Smith</td>\n",
       "      <td>4.7</td>\n",
       "      <td>17350</td>\n",
       "      <td>8</td>\n",
       "      <td>2016</td>\n",
       "      <td>Non Fiction</td>\n",
       "    </tr>\n",
       "    <tr>\n",
       "      <th>1</th>\n",
       "      <td>11/22/63: A Novel</td>\n",
       "      <td>Stephen King</td>\n",
       "      <td>4.6</td>\n",
       "      <td>2052</td>\n",
       "      <td>22</td>\n",
       "      <td>2011</td>\n",
       "      <td>Fiction</td>\n",
       "    </tr>\n",
       "    <tr>\n",
       "      <th>2</th>\n",
       "      <td>12 Rules for Life: An Antidote to Chaos</td>\n",
       "      <td>Jordan B. Peterson</td>\n",
       "      <td>4.7</td>\n",
       "      <td>18979</td>\n",
       "      <td>15</td>\n",
       "      <td>2018</td>\n",
       "      <td>Non Fiction</td>\n",
       "    </tr>\n",
       "    <tr>\n",
       "      <th>3</th>\n",
       "      <td>1984 (Signet Classics)</td>\n",
       "      <td>George Orwell</td>\n",
       "      <td>4.7</td>\n",
       "      <td>21424</td>\n",
       "      <td>6</td>\n",
       "      <td>2017</td>\n",
       "      <td>Fiction</td>\n",
       "    </tr>\n",
       "    <tr>\n",
       "      <th>4</th>\n",
       "      <td>5,000 Awesome Facts (About Everything!) (Natio...</td>\n",
       "      <td>National Geographic Kids</td>\n",
       "      <td>4.8</td>\n",
       "      <td>7665</td>\n",
       "      <td>12</td>\n",
       "      <td>2019</td>\n",
       "      <td>Non Fiction</td>\n",
       "    </tr>\n",
       "  </tbody>\n",
       "</table>\n",
       "</div>"
      ],
      "text/plain": [
       "                                                Name  \\\n",
       "0                      10-Day Green Smoothie Cleanse   \n",
       "1                                  11/22/63: A Novel   \n",
       "2            12 Rules for Life: An Antidote to Chaos   \n",
       "3                             1984 (Signet Classics)   \n",
       "4  5,000 Awesome Facts (About Everything!) (Natio...   \n",
       "\n",
       "                     Author  User Rating  Reviews  Price  Year        Genre  \n",
       "0                  JJ Smith          4.7    17350      8  2016  Non Fiction  \n",
       "1              Stephen King          4.6     2052     22  2011      Fiction  \n",
       "2        Jordan B. Peterson          4.7    18979     15  2018  Non Fiction  \n",
       "3             George Orwell          4.7    21424      6  2017      Fiction  \n",
       "4  National Geographic Kids          4.8     7665     12  2019  Non Fiction  "
      ]
     },
     "execution_count": 3,
     "metadata": {},
     "output_type": "execute_result"
    }
   ],
   "source": [
    "data.head()"
   ]
  },
  {
   "cell_type": "markdown",
   "metadata": {
    "papermill": {
     "duration": 0.034433,
     "end_time": "2020-11-25T10:26:44.255850",
     "exception": false,
     "start_time": "2020-11-25T10:26:44.221417",
     "status": "completed"
    },
    "tags": []
   },
   "source": [
    "# Checking for Null Values"
   ]
  },
  {
   "cell_type": "code",
   "execution_count": 4,
   "metadata": {
    "execution": {
     "iopub.execute_input": "2020-11-25T10:26:44.331458Z",
     "iopub.status.busy": "2020-11-25T10:26:44.330576Z",
     "iopub.status.idle": "2020-11-25T10:26:44.334644Z",
     "shell.execute_reply": "2020-11-25T10:26:44.334087Z"
    },
    "papermill": {
     "duration": 0.044823,
     "end_time": "2020-11-25T10:26:44.334752",
     "exception": false,
     "start_time": "2020-11-25T10:26:44.289929",
     "status": "completed"
    },
    "tags": []
   },
   "outputs": [
    {
     "data": {
      "text/plain": [
       "Name           0\n",
       "Author         0\n",
       "User Rating    0\n",
       "Reviews        0\n",
       "Price          0\n",
       "Year           0\n",
       "Genre          0\n",
       "dtype: int64"
      ]
     },
     "execution_count": 4,
     "metadata": {},
     "output_type": "execute_result"
    }
   ],
   "source": [
    "data.isnull().sum()"
   ]
  },
  {
   "cell_type": "markdown",
   "metadata": {
    "papermill": {
     "duration": 0.034257,
     "end_time": "2020-11-25T10:26:44.404061",
     "exception": false,
     "start_time": "2020-11-25T10:26:44.369804",
     "status": "completed"
    },
    "tags": []
   },
   "source": [
    "# Exploratory Data Analysis (EDA)"
   ]
  },
  {
   "cell_type": "markdown",
   "metadata": {
    "papermill": {
     "duration": 0.034462,
     "end_time": "2020-11-25T10:26:44.472400",
     "exception": false,
     "start_time": "2020-11-25T10:26:44.437938",
     "status": "completed"
    },
    "tags": []
   },
   "source": [
    "**Distribution of Classes**"
   ]
  },
  {
   "cell_type": "code",
   "execution_count": 5,
   "metadata": {
    "execution": {
     "iopub.execute_input": "2020-11-25T10:26:44.548923Z",
     "iopub.status.busy": "2020-11-25T10:26:44.548325Z",
     "iopub.status.idle": "2020-11-25T10:26:44.718420Z",
     "shell.execute_reply": "2020-11-25T10:26:44.717235Z"
    },
    "papermill": {
     "duration": 0.211976,
     "end_time": "2020-11-25T10:26:44.718548",
     "exception": false,
     "start_time": "2020-11-25T10:26:44.506572",
     "status": "completed"
    },
    "tags": []
   },
   "outputs": [
    {
     "data": {
      "text/plain": [
       "<matplotlib.axes._subplots.AxesSubplot at 0x7f5f72901c90>"
      ]
     },
     "execution_count": 5,
     "metadata": {},
     "output_type": "execute_result"
    },
    {
     "data": {
      "image/png": "[encoded data removed]",
      "text/plain": [
       "<Figure size 432x288 with 1 Axes>"
      ]
     },
     "metadata": {
      "needs_background": "light"
     },
     "output_type": "display_data"
    }
   ],
   "source": [
    "sns.countplot('Genre',data=data)"
   ]
  },
  {
   "cell_type": "markdown",
   "metadata": {
    "papermill": {
     "duration": 0.046926,
     "end_time": "2020-11-25T10:26:44.809194",
     "exception": false,
     "start_time": "2020-11-25T10:26:44.762268",
     "status": "completed"
    },
    "tags": []
   },
   "source": [
    "**Correlation Matrix**"
   ]
  },
  {
   "cell_type": "code",
   "execution_count": 6,
   "metadata": {
    "execution": {
     "iopub.execute_input": "2020-11-25T10:26:44.892018Z",
     "iopub.status.busy": "2020-11-25T10:26:44.891378Z",
     "iopub.status.idle": "2020-11-25T10:26:44.905496Z",
     "shell.execute_reply": "2020-11-25T10:26:44.906231Z"
    },
    "papermill": {
     "duration": 0.056886,
     "end_time": "2020-11-25T10:26:44.906396",
     "exception": false,
     "start_time": "2020-11-25T10:26:44.849510",
     "status": "completed"
    },
    "tags": []
   },
   "outputs": [
    {
     "data": {
      "text/html": [
       "<div>\n",
       "<style scoped>\n",
       "    .dataframe tbody tr th:only-of-type {\n",
       "        vertical-align: middle;\n",
       "    }\n",
       "\n",
       "    .dataframe tbody tr th {\n",
       "        vertical-align: top;\n",
       "    }\n",
       "\n",
       "    .dataframe thead th {\n",
       "        text-align: right;\n",
       "    }\n",
       "</style>\n",
       "<table border=\"1\" class=\"dataframe\">\n",
       "  <thead>\n",
       "    <tr style=\"text-align: right;\">\n",
       "      <th></th>\n",
       "      <th>User Rating</th>\n",
       "      <th>Reviews</th>\n",
       "      <th>Price</th>\n",
       "      <th>Year</th>\n",
       "    </tr>\n",
       "  </thead>\n",
       "  <tbody>\n",
       "    <tr>\n",
       "      <th>User Rating</th>\n",
       "      <td>1.000000</td>\n",
       "      <td>-0.001729</td>\n",
       "      <td>-0.133086</td>\n",
       "      <td>0.242383</td>\n",
       "    </tr>\n",
       "    <tr>\n",
       "      <th>Reviews</th>\n",
       "      <td>-0.001729</td>\n",
       "      <td>1.000000</td>\n",
       "      <td>-0.109182</td>\n",
       "      <td>0.263560</td>\n",
       "    </tr>\n",
       "    <tr>\n",
       "      <th>Price</th>\n",
       "      <td>-0.133086</td>\n",
       "      <td>-0.109182</td>\n",
       "      <td>1.000000</td>\n",
       "      <td>-0.153979</td>\n",
       "    </tr>\n",
       "    <tr>\n",
       "      <th>Year</th>\n",
       "      <td>0.242383</td>\n",
       "      <td>0.263560</td>\n",
       "      <td>-0.153979</td>\n",
       "      <td>1.000000</td>\n",
       "    </tr>\n",
       "  </tbody>\n",
       "</table>\n",
       "</div>"
      ],
      "text/plain": [
       "             User Rating   Reviews     Price      Year\n",
       "User Rating     1.000000 -0.001729 -0.133086  0.242383\n",
       "Reviews        -0.001729  1.000000 -0.109182  0.263560\n",
       "Price          -0.133086 -0.109182  1.000000 -0.153979\n",
       "Year            0.242383  0.263560 -0.153979  1.000000"
      ]
     },
     "execution_count": 6,
     "metadata": {},
     "output_type": "execute_result"
    }
   ],
   "source": [
    "corr = data.corr()\n",
    "corr"
   ]
  },
  {
   "cell_type": "code",
   "execution_count": 7,
   "metadata": {
    "execution": {
     "iopub.execute_input": "2020-11-25T10:26:44.994164Z",
     "iopub.status.busy": "2020-11-25T10:26:44.993139Z",
     "iopub.status.idle": "2020-11-25T10:26:45.207807Z",
     "shell.execute_reply": "2020-11-25T10:26:45.208308Z"
    },
    "papermill": {
     "duration": 0.260846,
     "end_time": "2020-11-25T10:26:45.208464",
     "exception": false,
     "start_time": "2020-11-25T10:26:44.947618",
     "status": "completed"
    },
    "tags": []
   },
   "outputs": [
    {
     "data": {
      "text/plain": [
       "<matplotlib.axes._subplots.AxesSubplot at 0x7f5f7271f0d0>"
      ]
     },
     "execution_count": 7,
     "metadata": {},
     "output_type": "execute_result"
    },
    {
     "data": {
      "image/png": "[encoded data removed]",
      "text/plain": [
       "<Figure size 432x288 with 2 Axes>"
      ]
     },
     "metadata": {
      "needs_background": "light"
     },
     "output_type": "display_data"
    }
   ],
   "source": [
    "sns.heatmap(corr)"
   ]
  },
  {
   "cell_type": "markdown",
   "metadata": {
    "papermill": {
     "duration": 0.037575,
     "end_time": "2020-11-25T10:26:45.284663",
     "exception": false,
     "start_time": "2020-11-25T10:26:45.247088",
     "status": "completed"
    },
    "tags": []
   },
   "source": [
    "**Scatter Plot of Price and Reviews (For Fiction and Non-Fiction Books)**"
   ]
  },
  {
   "cell_type": "code",
   "execution_count": 8,
   "metadata": {
    "execution": {
     "iopub.execute_input": "2020-11-25T10:26:45.368117Z",
     "iopub.status.busy": "2020-11-25T10:26:45.367042Z",
     "iopub.status.idle": "2020-11-25T10:26:45.804946Z",
     "shell.execute_reply": "2020-11-25T10:26:45.803906Z"
    },
    "papermill": {
     "duration": 0.483679,
     "end_time": "2020-11-25T10:26:45.805079",
     "exception": false,
     "start_time": "2020-11-25T10:26:45.321400",
     "status": "completed"
    },
    "tags": []
   },
   "outputs": [
    {
     "data": {
      "image/png": "[encoded data removed]",
      "text/plain": [
       "<Figure size 360x360 with 1 Axes>"
      ]
     },
     "metadata": {
      "needs_background": "light"
     },
     "output_type": "display_data"
    },
    {
     "data": {
      "image/png": "[encoded data removed]",
      "text/plain": [
       "<Figure size 360x360 with 1 Axes>"
      ]
     },
     "metadata": {
      "needs_background": "light"
     },
     "output_type": "display_data"
    }
   ],
   "source": [
    "for genre in ['Fiction','Non Fiction']:\n",
    "    temp_fiction = data[data['Genre']==genre]\n",
    "    sns.lmplot(x='Reviews',y='Price',data=temp_fiction, fit_reg=False)\n",
    "    plt.title('{} Books'.format(genre))\n",
    "    plt.xlabel('Reviews')\n",
    "    plt.ylabel('Price')\n",
    "    plt.show()"
   ]
  },
  {
   "cell_type": "markdown",
   "metadata": {
    "papermill": {
     "duration": 0.040575,
     "end_time": "2020-11-25T10:26:45.890200",
     "exception": false,
     "start_time": "2020-11-25T10:26:45.849625",
     "status": "completed"
    },
    "tags": []
   },
   "source": [
    "**Average Rating of BestSeller Books (For Fiction and Non-Fiction Books)**"
   ]
  },
  {
   "cell_type": "code",
   "execution_count": 9,
   "metadata": {
    "execution": {
     "iopub.execute_input": "2020-11-25T10:26:46.103159Z",
     "iopub.status.busy": "2020-11-25T10:26:46.048915Z",
     "iopub.status.idle": "2020-11-25T10:26:46.109746Z",
     "shell.execute_reply": "2020-11-25T10:26:46.109089Z"
    },
    "papermill": {
     "duration": 0.177722,
     "end_time": "2020-11-25T10:26:46.109877",
     "exception": false,
     "start_time": "2020-11-25T10:26:45.932155",
     "status": "completed"
    },
    "tags": []
   },
   "outputs": [
    {
     "data": {
      "text/html": [
       "<div>\n",
       "<style scoped>\n",
       "    .dataframe tbody tr th:only-of-type {\n",
       "        vertical-align: middle;\n",
       "    }\n",
       "\n",
       "    .dataframe tbody tr th {\n",
       "        vertical-align: top;\n",
       "    }\n",
       "\n",
       "    .dataframe thead th {\n",
       "        text-align: right;\n",
       "    }\n",
       "</style>\n",
       "<table border=\"1\" class=\"dataframe\">\n",
       "  <thead>\n",
       "    <tr style=\"text-align: right;\">\n",
       "      <th></th>\n",
       "      <th>Year</th>\n",
       "      <th>Rating</th>\n",
       "      <th>Genre</th>\n",
       "    </tr>\n",
       "  </thead>\n",
       "  <tbody>\n",
       "    <tr>\n",
       "      <th>0</th>\n",
       "      <td>2009</td>\n",
       "      <td>4.591667</td>\n",
       "      <td>Fiction</td>\n",
       "    </tr>\n",
       "    <tr>\n",
       "      <th>1</th>\n",
       "      <td>2009</td>\n",
       "      <td>4.576923</td>\n",
       "      <td>Non_Fiction</td>\n",
       "    </tr>\n",
       "    <tr>\n",
       "      <th>2</th>\n",
       "      <td>2010</td>\n",
       "      <td>4.615000</td>\n",
       "      <td>Fiction</td>\n",
       "    </tr>\n",
       "    <tr>\n",
       "      <th>3</th>\n",
       "      <td>2010</td>\n",
       "      <td>4.520000</td>\n",
       "      <td>Non_Fiction</td>\n",
       "    </tr>\n",
       "    <tr>\n",
       "      <th>4</th>\n",
       "      <td>2011</td>\n",
       "      <td>4.619048</td>\n",
       "      <td>Fiction</td>\n",
       "    </tr>\n",
       "    <tr>\n",
       "      <th>5</th>\n",
       "      <td>2011</td>\n",
       "      <td>4.513793</td>\n",
       "      <td>Non_Fiction</td>\n",
       "    </tr>\n",
       "    <tr>\n",
       "      <th>6</th>\n",
       "      <td>2012</td>\n",
       "      <td>4.495238</td>\n",
       "      <td>Fiction</td>\n",
       "    </tr>\n",
       "    <tr>\n",
       "      <th>7</th>\n",
       "      <td>2012</td>\n",
       "      <td>4.558621</td>\n",
       "      <td>Non_Fiction</td>\n",
       "    </tr>\n",
       "    <tr>\n",
       "      <th>8</th>\n",
       "      <td>2013</td>\n",
       "      <td>4.545833</td>\n",
       "      <td>Fiction</td>\n",
       "    </tr>\n",
       "    <tr>\n",
       "      <th>9</th>\n",
       "      <td>2013</td>\n",
       "      <td>4.561538</td>\n",
       "      <td>Non_Fiction</td>\n",
       "    </tr>\n",
       "    <tr>\n",
       "      <th>10</th>\n",
       "      <td>2014</td>\n",
       "      <td>4.631034</td>\n",
       "      <td>Fiction</td>\n",
       "    </tr>\n",
       "    <tr>\n",
       "      <th>11</th>\n",
       "      <td>2014</td>\n",
       "      <td>4.609524</td>\n",
       "      <td>Non_Fiction</td>\n",
       "    </tr>\n",
       "    <tr>\n",
       "      <th>12</th>\n",
       "      <td>2015</td>\n",
       "      <td>4.652941</td>\n",
       "      <td>Fiction</td>\n",
       "    </tr>\n",
       "    <tr>\n",
       "      <th>13</th>\n",
       "      <td>2015</td>\n",
       "      <td>4.645455</td>\n",
       "      <td>Non_Fiction</td>\n",
       "    </tr>\n",
       "    <tr>\n",
       "      <th>14</th>\n",
       "      <td>2016</td>\n",
       "      <td>4.715789</td>\n",
       "      <td>Fiction</td>\n",
       "    </tr>\n",
       "    <tr>\n",
       "      <th>15</th>\n",
       "      <td>2016</td>\n",
       "      <td>4.654839</td>\n",
       "      <td>Non_Fiction</td>\n",
       "    </tr>\n",
       "    <tr>\n",
       "      <th>16</th>\n",
       "      <td>2017</td>\n",
       "      <td>4.737500</td>\n",
       "      <td>Fiction</td>\n",
       "    </tr>\n",
       "    <tr>\n",
       "      <th>17</th>\n",
       "      <td>2017</td>\n",
       "      <td>4.588462</td>\n",
       "      <td>Non_Fiction</td>\n",
       "    </tr>\n",
       "    <tr>\n",
       "      <th>18</th>\n",
       "      <td>2018</td>\n",
       "      <td>4.738095</td>\n",
       "      <td>Fiction</td>\n",
       "    </tr>\n",
       "    <tr>\n",
       "      <th>19</th>\n",
       "      <td>2018</td>\n",
       "      <td>4.617241</td>\n",
       "      <td>Non_Fiction</td>\n",
       "    </tr>\n",
       "    <tr>\n",
       "      <th>20</th>\n",
       "      <td>2019</td>\n",
       "      <td>4.820000</td>\n",
       "      <td>Fiction</td>\n",
       "    </tr>\n",
       "    <tr>\n",
       "      <th>21</th>\n",
       "      <td>2019</td>\n",
       "      <td>4.686667</td>\n",
       "      <td>Non_Fiction</td>\n",
       "    </tr>\n",
       "  </tbody>\n",
       "</table>\n",
       "</div>"
      ],
      "text/plain": [
       "    Year    Rating        Genre\n",
       "0   2009  4.591667      Fiction\n",
       "1   2009  4.576923  Non_Fiction\n",
       "2   2010  4.615000      Fiction\n",
       "3   2010  4.520000  Non_Fiction\n",
       "4   2011  4.619048      Fiction\n",
       "5   2011  4.513793  Non_Fiction\n",
       "6   2012  4.495238      Fiction\n",
       "7   2012  4.558621  Non_Fiction\n",
       "8   2013  4.545833      Fiction\n",
       "9   2013  4.561538  Non_Fiction\n",
       "10  2014  4.631034      Fiction\n",
       "11  2014  4.609524  Non_Fiction\n",
       "12  2015  4.652941      Fiction\n",
       "13  2015  4.645455  Non_Fiction\n",
       "14  2016  4.715789      Fiction\n",
       "15  2016  4.654839  Non_Fiction\n",
       "16  2017  4.737500      Fiction\n",
       "17  2017  4.588462  Non_Fiction\n",
       "18  2018  4.738095      Fiction\n",
       "19  2018  4.617241  Non_Fiction\n",
       "20  2019  4.820000      Fiction\n",
       "21  2019  4.686667  Non_Fiction"
      ]
     },
     "execution_count": 9,
     "metadata": {},
     "output_type": "execute_result"
    }
   ],
   "source": [
    "temp = data[data['Genre']=='Fiction']\n",
    "years =  sorted(temp['Year'].unique().tolist())\n",
    "mean_rating = pd.DataFrame([], columns=['Year','Rating','Genre'])\n",
    "for index, year in enumerate(years):\n",
    "    \n",
    "    fn_temp = data[(data['Genre']=='Fiction') & (data['Year'] == year)]\n",
    "    fn_rating = fn_temp['User Rating'].mean()\n",
    "    nfn_temp = data[(data['Genre'] == 'Non Fiction') & (data['Year'] == year)]\n",
    "    nfn_rating = nfn_temp['User Rating'].mean()\n",
    "    temp_fn = {'Year':year,'Rating':fn_rating,'Genre':'Fiction'}\n",
    "    temp_nfn = {'Year':year, 'Rating':nfn_rating,'Genre':'Non_Fiction'}\n",
    "    mean_rating = mean_rating.append(temp_fn, ignore_index = True)\n",
    "    mean_rating = mean_rating.append(temp_nfn, ignore_index = True)\n",
    "mean_rating"
   ]
  },
  {
   "cell_type": "code",
   "execution_count": 10,
   "metadata": {
    "execution": {
     "iopub.execute_input": "2020-11-25T10:26:46.217482Z",
     "iopub.status.busy": "2020-11-25T10:26:46.216456Z",
     "iopub.status.idle": "2020-11-25T10:26:46.681782Z",
     "shell.execute_reply": "2020-11-25T10:26:46.682384Z"
    },
    "papermill": {
     "duration": 0.526709,
     "end_time": "2020-11-25T10:26:46.682562",
     "exception": false,
     "start_time": "2020-11-25T10:26:46.155853",
     "status": "completed"
    },
    "tags": []
   },
   "outputs": [
    {
     "data": {
      "text/plain": [
       "Text(0.5, 1.0, 'Average Rating Per Year (Genre Wise)')"
      ]
     },
     "execution_count": 10,
     "metadata": {},
     "output_type": "execute_result"
    },
    {
     "data": {
      "image/png": "[encoded data removed]",
      "text/plain": [
       "<Figure size 453.375x360 with 1 Axes>"
      ]
     },
     "metadata": {
      "needs_background": "light"
     },
     "output_type": "display_data"
    }
   ],
   "source": [
    "sns.catplot(x='Year', y='Rating', hue='Genre', data=mean_rating, kind='bar')\n",
    "plt.xticks(rotation=90)\n",
    "plt.title('Average Rating Per Year (Genre Wise)')\n"
   ]
  },
  {
   "cell_type": "markdown",
   "metadata": {
    "papermill": {
     "duration": 0.063318,
     "end_time": "2020-11-25T10:26:46.795572",
     "exception": false,
     "start_time": "2020-11-25T10:26:46.732254",
     "status": "completed"
    },
    "tags": []
   },
   "source": [
    "Top 10 Author with Books of Maximum Price"
   ]
  },
  {
   "cell_type": "code",
   "execution_count": 11,
   "metadata": {
    "execution": {
     "iopub.execute_input": "2020-11-25T10:26:47.000809Z",
     "iopub.status.busy": "2020-11-25T10:26:46.999379Z",
     "iopub.status.idle": "2020-11-25T10:26:48.183088Z",
     "shell.execute_reply": "2020-11-25T10:26:48.182128Z"
    },
    "papermill": {
     "duration": 1.311675,
     "end_time": "2020-11-25T10:26:48.183215",
     "exception": false,
     "start_time": "2020-11-25T10:26:46.871540",
     "status": "completed"
    },
    "tags": []
   },
   "outputs": [
    {
     "data": {
      "text/html": [
       "<div>\n",
       "<style scoped>\n",
       "    .dataframe tbody tr th:only-of-type {\n",
       "        vertical-align: middle;\n",
       "    }\n",
       "\n",
       "    .dataframe tbody tr th {\n",
       "        vertical-align: top;\n",
       "    }\n",
       "\n",
       "    .dataframe thead th {\n",
       "        text-align: right;\n",
       "    }\n",
       "</style>\n",
       "<table border=\"1\" class=\"dataframe\">\n",
       "  <thead>\n",
       "    <tr style=\"text-align: right;\">\n",
       "      <th></th>\n",
       "      <th>Author</th>\n",
       "      <th>Mean Price</th>\n",
       "    </tr>\n",
       "  </thead>\n",
       "  <tbody>\n",
       "    <tr>\n",
       "      <th>49</th>\n",
       "      <td>American Psychiatric Association</td>\n",
       "      <td>105.000000</td>\n",
       "    </tr>\n",
       "    <tr>\n",
       "      <th>83</th>\n",
       "      <td>Lin-Manuel Miranda</td>\n",
       "      <td>54.000000</td>\n",
       "    </tr>\n",
       "    <tr>\n",
       "      <th>168</th>\n",
       "      <td>Bill Simmons</td>\n",
       "      <td>53.000000</td>\n",
       "    </tr>\n",
       "    <tr>\n",
       "      <th>139</th>\n",
       "      <td>American Psychological Association</td>\n",
       "      <td>46.000000</td>\n",
       "    </tr>\n",
       "    <tr>\n",
       "      <th>232</th>\n",
       "      <td>Alan Moore</td>\n",
       "      <td>42.000000</td>\n",
       "    </tr>\n",
       "    <tr>\n",
       "      <th>203</th>\n",
       "      <td>The College Board</td>\n",
       "      <td>39.333333</td>\n",
       "    </tr>\n",
       "    <tr>\n",
       "      <th>162</th>\n",
       "      <td>Paulo Coelho</td>\n",
       "      <td>39.000000</td>\n",
       "    </tr>\n",
       "    <tr>\n",
       "      <th>85</th>\n",
       "      <td>J. K. Rowling</td>\n",
       "      <td>35.000000</td>\n",
       "    </tr>\n",
       "    <tr>\n",
       "      <th>10</th>\n",
       "      <td>Jaycee Dugard</td>\n",
       "      <td>32.000000</td>\n",
       "    </tr>\n",
       "    <tr>\n",
       "      <th>36</th>\n",
       "      <td>Thomas Piketty</td>\n",
       "      <td>28.000000</td>\n",
       "    </tr>\n",
       "  </tbody>\n",
       "</table>\n",
       "</div>"
      ],
      "text/plain": [
       "                                 Author  Mean Price\n",
       "49     American Psychiatric Association  105.000000\n",
       "83                   Lin-Manuel Miranda   54.000000\n",
       "168                        Bill Simmons   53.000000\n",
       "139  American Psychological Association   46.000000\n",
       "232                          Alan Moore   42.000000\n",
       "203                   The College Board   39.333333\n",
       "162                        Paulo Coelho   39.000000\n",
       "85                        J. K. Rowling   35.000000\n",
       "10                        Jaycee Dugard   32.000000\n",
       "36                       Thomas Piketty   28.000000"
      ]
     },
     "execution_count": 11,
     "metadata": {},
     "output_type": "execute_result"
    }
   ],
   "source": [
    "author_price = pd.DataFrame([],columns=['Author','Mean Price'])\n",
    "authors = data['Author'].unique()\n",
    "for index, author in enumerate(authors):\n",
    "    author_data = data[data['Author']==author]\n",
    "    mean_price = author_data['Price'].mean()\n",
    "    author_price.loc[index] = [author,mean_price]\n",
    "author_price =  author_price.sort_values('Mean Price', ascending=False).iloc[:10,:]\n",
    "author_price"
   ]
  },
  {
   "cell_type": "code",
   "execution_count": 12,
   "metadata": {
    "execution": {
     "iopub.execute_input": "2020-11-25T10:26:48.292851Z",
     "iopub.status.busy": "2020-11-25T10:26:48.289638Z",
     "iopub.status.idle": "2020-11-25T10:26:48.483661Z",
     "shell.execute_reply": "2020-11-25T10:26:48.483017Z"
    },
    "papermill": {
     "duration": 0.256121,
     "end_time": "2020-11-25T10:26:48.483782",
     "exception": false,
     "start_time": "2020-11-25T10:26:48.227661",
     "status": "completed"
    },
    "tags": []
   },
   "outputs": [
    {
     "data": {
      "text/plain": [
       "Text(0.5, 1.0, 'Authors with Books of Maximum Price')"
      ]
     },
     "execution_count": 12,
     "metadata": {},
     "output_type": "execute_result"
    },
    {
     "data": {
      "image/png": "[encoded data removed]",
      "text/plain": [
       "<Figure size 432x288 with 1 Axes>"
      ]
     },
     "metadata": {
      "needs_background": "light"
     },
     "output_type": "display_data"
    }
   ],
   "source": [
    "sns.barplot(x = 'Author', y ='Mean Price',data= author_price)\n",
    "plt.xticks(rotation=90)\n",
    "plt.title('Authors with Books of Maximum Price')"
   ]
  },
  {
   "cell_type": "markdown",
   "metadata": {
    "papermill": {
     "duration": 0.043607,
     "end_time": "2020-11-25T10:26:48.576694",
     "exception": false,
     "start_time": "2020-11-25T10:26:48.533087",
     "status": "completed"
    },
    "tags": []
   },
   "source": [
    "**Histogram of Reviews and Price**"
   ]
  },
  {
   "cell_type": "code",
   "execution_count": 13,
   "metadata": {
    "execution": {
     "iopub.execute_input": "2020-11-25T10:26:48.684265Z",
     "iopub.status.busy": "2020-11-25T10:26:48.681548Z",
     "iopub.status.idle": "2020-11-25T10:26:49.164257Z",
     "shell.execute_reply": "2020-11-25T10:26:49.164779Z"
    },
    "papermill": {
     "duration": 0.543978,
     "end_time": "2020-11-25T10:26:49.164926",
     "exception": false,
     "start_time": "2020-11-25T10:26:48.620948",
     "status": "completed"
    },
    "tags": []
   },
   "outputs": [
    {
     "data": {
      "image/png": "[encoded data removed]",
      "text/plain": [
       "<Figure size 432x288 with 1 Axes>"
      ]
     },
     "metadata": {
      "needs_background": "light"
     },
     "output_type": "display_data"
    },
    {
     "data": {
      "image/png": "[encoded data removed]",
      "text/plain": [
       "<Figure size 432x288 with 1 Axes>"
      ]
     },
     "metadata": {
      "needs_background": "light"
     },
     "output_type": "display_data"
    }
   ],
   "source": [
    "for feature in ['Reviews','Price']:\n",
    "    sns.distplot(data[feature])\n",
    "    plt.title('Histogram of {}'.format(feature))\n",
    "    plt.show()"
   ]
  },
  {
   "cell_type": "markdown",
   "metadata": {
    "papermill": {
     "duration": 0.048325,
     "end_time": "2020-11-25T10:26:49.260489",
     "exception": false,
     "start_time": "2020-11-25T10:26:49.212164",
     "status": "completed"
    },
    "tags": []
   },
   "source": [
    "**Top 10 Authors with Max BestSeller Books**"
   ]
  },
  {
   "cell_type": "code",
   "execution_count": 14,
   "metadata": {
    "execution": {
     "iopub.execute_input": "2020-11-25T10:26:49.377428Z",
     "iopub.status.busy": "2020-11-25T10:26:49.369814Z",
     "iopub.status.idle": "2020-11-25T10:26:49.564026Z",
     "shell.execute_reply": "2020-11-25T10:26:49.564539Z"
    },
    "papermill": {
     "duration": 0.258969,
     "end_time": "2020-11-25T10:26:49.564674",
     "exception": false,
     "start_time": "2020-11-25T10:26:49.305705",
     "status": "completed"
    },
    "tags": []
   },
   "outputs": [
    {
     "data": {
      "image/png": "[encoded data removed]",
      "text/plain": [
       "<Figure size 432x288 with 1 Axes>"
      ]
     },
     "metadata": {
      "needs_background": "light"
     },
     "output_type": "display_data"
    }
   ],
   "source": [
    "sns.barplot(x = data['Author'].value_counts().head(10).index,y = data['Author'].value_counts().head(10).values,data=data)\n",
    "plt.xticks(rotation=90)\n",
    "plt.title('Top 10 Authors with Max BestSeller Books')\n",
    "plt.show()"
   ]
  },
  {
   "cell_type": "markdown",
   "metadata": {
    "papermill": {
     "duration": 0.048352,
     "end_time": "2020-11-25T10:26:49.660081",
     "exception": false,
     "start_time": "2020-11-25T10:26:49.611729",
     "status": "completed"
    },
    "tags": []
   },
   "source": [
    "# Genre Prediction"
   ]
  },
  {
   "cell_type": "code",
   "execution_count": 15,
   "metadata": {
    "execution": {
     "iopub.execute_input": "2020-11-25T10:26:49.760979Z",
     "iopub.status.busy": "2020-11-25T10:26:49.759973Z",
     "iopub.status.idle": "2020-11-25T10:26:49.762958Z",
     "shell.execute_reply": "2020-11-25T10:26:49.762435Z"
    },
    "papermill": {
     "duration": 0.056016,
     "end_time": "2020-11-25T10:26:49.763080",
     "exception": false,
     "start_time": "2020-11-25T10:26:49.707064",
     "status": "completed"
    },
    "tags": []
   },
   "outputs": [],
   "source": [
    "y = data.Genre"
   ]
  },
  {
   "cell_type": "code",
   "execution_count": 16,
   "metadata": {
    "execution": {
     "iopub.execute_input": "2020-11-25T10:26:49.863945Z",
     "iopub.status.busy": "2020-11-25T10:26:49.863162Z",
     "iopub.status.idle": "2020-11-25T10:26:49.866376Z",
     "shell.execute_reply": "2020-11-25T10:26:49.865866Z"
    },
    "papermill": {
     "duration": 0.056447,
     "end_time": "2020-11-25T10:26:49.866490",
     "exception": false,
     "start_time": "2020-11-25T10:26:49.810043",
     "status": "completed"
    },
    "tags": []
   },
   "outputs": [],
   "source": [
    "X = data.drop(columns=['Name','Author','Genre'])"
   ]
  },
  {
   "cell_type": "code",
   "execution_count": 17,
   "metadata": {
    "execution": {
     "iopub.execute_input": "2020-11-25T10:26:49.968613Z",
     "iopub.status.busy": "2020-11-25T10:26:49.967739Z",
     "iopub.status.idle": "2020-11-25T10:26:49.970602Z",
     "shell.execute_reply": "2020-11-25T10:26:49.970032Z"
    },
    "papermill": {
     "duration": 0.056539,
     "end_time": "2020-11-25T10:26:49.970716",
     "exception": false,
     "start_time": "2020-11-25T10:26:49.914177",
     "status": "completed"
    },
    "tags": []
   },
   "outputs": [],
   "source": [
    "def clean(x):\n",
    "    x = re.sub('[^A-z\\s]','',x)\n",
    "    return x.lower()"
   ]
  },
  {
   "cell_type": "code",
   "execution_count": 18,
   "metadata": {
    "execution": {
     "iopub.execute_input": "2020-11-25T10:26:50.074198Z",
     "iopub.status.busy": "2020-11-25T10:26:50.073272Z",
     "iopub.status.idle": "2020-11-25T10:26:50.076416Z",
     "shell.execute_reply": "2020-11-25T10:26:50.075772Z"
    },
    "papermill": {
     "duration": 0.057824,
     "end_time": "2020-11-25T10:26:50.076512",
     "exception": false,
     "start_time": "2020-11-25T10:26:50.018688",
     "status": "completed"
    },
    "tags": []
   },
   "outputs": [],
   "source": [
    "import re\n",
    "text = data.Name.apply(lambda x: clean(x)) "
   ]
  },
  {
   "cell_type": "code",
   "execution_count": 19,
   "metadata": {
    "execution": {
     "iopub.execute_input": "2020-11-25T10:26:50.183353Z",
     "iopub.status.busy": "2020-11-25T10:26:50.182639Z",
     "iopub.status.idle": "2020-11-25T10:26:50.288669Z",
     "shell.execute_reply": "2020-11-25T10:26:50.288091Z"
    },
    "papermill": {
     "duration": 0.158784,
     "end_time": "2020-11-25T10:26:50.288782",
     "exception": false,
     "start_time": "2020-11-25T10:26:50.129998",
     "status": "completed"
    },
    "tags": []
   },
   "outputs": [],
   "source": [
    "from sklearn.feature_extraction.text import TfidfVectorizer\n",
    "tfidfconverter = TfidfVectorizer(max_features=1500,max_df=0.6,min_df=1)\n",
    "text_num = tfidfconverter.fit_transform(text).toarray()"
   ]
  },
  {
   "cell_type": "code",
   "execution_count": 20,
   "metadata": {
    "execution": {
     "iopub.execute_input": "2020-11-25T10:26:50.389696Z",
     "iopub.status.busy": "2020-11-25T10:26:50.388647Z",
     "iopub.status.idle": "2020-11-25T10:26:50.395576Z",
     "shell.execute_reply": "2020-11-25T10:26:50.396184Z"
    },
    "papermill": {
     "duration": 0.059581,
     "end_time": "2020-11-25T10:26:50.396309",
     "exception": false,
     "start_time": "2020-11-25T10:26:50.336728",
     "status": "completed"
    },
    "tags": []
   },
   "outputs": [
    {
     "name": "stdout",
     "output_type": "stream",
     "text": [
      "Shape of input features (550, 1154)\n"
     ]
    }
   ],
   "source": [
    "x = np.concatenate((text_num,X),axis=1)\n",
    "print('Shape of input features {}'.format(x.shape))"
   ]
  },
  {
   "cell_type": "code",
   "execution_count": 21,
   "metadata": {
    "execution": {
     "iopub.execute_input": "2020-11-25T10:26:50.501802Z",
     "iopub.status.busy": "2020-11-25T10:26:50.500635Z",
     "iopub.status.idle": "2020-11-25T10:26:50.519664Z",
     "shell.execute_reply": "2020-11-25T10:26:50.519096Z"
    },
    "papermill": {
     "duration": 0.073642,
     "end_time": "2020-11-25T10:26:50.519784",
     "exception": false,
     "start_time": "2020-11-25T10:26:50.446142",
     "status": "completed"
    },
    "tags": []
   },
   "outputs": [],
   "source": [
    "from sklearn.preprocessing import StandardScaler\n",
    "scaler = StandardScaler()\n",
    "x = scaler.fit_transform(x)"
   ]
  },
  {
   "cell_type": "code",
   "execution_count": 22,
   "metadata": {
    "execution": {
     "iopub.execute_input": "2020-11-25T10:26:50.633713Z",
     "iopub.status.busy": "2020-11-25T10:26:50.632741Z",
     "iopub.status.idle": "2020-11-25T10:26:50.636117Z",
     "shell.execute_reply": "2020-11-25T10:26:50.635566Z"
    },
    "papermill": {
     "duration": 0.062213,
     "end_time": "2020-11-25T10:26:50.636246",
     "exception": false,
     "start_time": "2020-11-25T10:26:50.574033",
     "status": "completed"
    },
    "tags": []
   },
   "outputs": [],
   "source": [
    "from sklearn import preprocessing \n",
    "label_encoder = preprocessing.LabelEncoder() \n",
    "y = label_encoder.fit_transform(y)"
   ]
  },
  {
   "cell_type": "code",
   "execution_count": 23,
   "metadata": {
    "execution": {
     "iopub.execute_input": "2020-11-25T10:26:50.753733Z",
     "iopub.status.busy": "2020-11-25T10:26:50.752809Z",
     "iopub.status.idle": "2020-11-25T10:26:50.815297Z",
     "shell.execute_reply": "2020-11-25T10:26:50.814678Z"
    },
    "papermill": {
     "duration": 0.123615,
     "end_time": "2020-11-25T10:26:50.815430",
     "exception": false,
     "start_time": "2020-11-25T10:26:50.691815",
     "status": "completed"
    },
    "tags": []
   },
   "outputs": [],
   "source": [
    "from sklearn.model_selection import train_test_split\n",
    "xtrain,xtest,ytrain,ytest = train_test_split(x,y, test_size=0.2)"
   ]
  },
  {
   "cell_type": "markdown",
   "metadata": {
    "papermill": {
     "duration": 0.04915,
     "end_time": "2020-11-25T10:26:50.914628",
     "exception": false,
     "start_time": "2020-11-25T10:26:50.865478",
     "status": "completed"
    },
    "tags": []
   },
   "source": [
    "# Initializing Models"
   ]
  },
  {
   "cell_type": "code",
   "execution_count": 24,
   "metadata": {
    "execution": {
     "iopub.execute_input": "2020-11-25T10:26:51.017403Z",
     "iopub.status.busy": "2020-11-25T10:26:51.016598Z",
     "iopub.status.idle": "2020-11-25T10:26:51.104488Z",
     "shell.execute_reply": "2020-11-25T10:26:51.103873Z"
    },
    "papermill": {
     "duration": 0.140831,
     "end_time": "2020-11-25T10:26:51.104615",
     "exception": false,
     "start_time": "2020-11-25T10:26:50.963784",
     "status": "completed"
    },
    "tags": []
   },
   "outputs": [],
   "source": [
    "from sklearn.svm import SVC\n",
    "svc_clf = SVC(C=1.0,gamma='auto')"
   ]
  },
  {
   "cell_type": "code",
   "execution_count": 25,
   "metadata": {
    "execution": {
     "iopub.execute_input": "2020-11-25T10:26:51.209790Z",
     "iopub.status.busy": "2020-11-25T10:26:51.208855Z",
     "iopub.status.idle": "2020-11-25T10:26:51.212280Z",
     "shell.execute_reply": "2020-11-25T10:26:51.211729Z"
    },
    "papermill": {
     "duration": 0.056411,
     "end_time": "2020-11-25T10:26:51.212409",
     "exception": false,
     "start_time": "2020-11-25T10:26:51.155998",
     "status": "completed"
    },
    "tags": []
   },
   "outputs": [],
   "source": [
    "from sklearn.linear_model import LogisticRegression\n",
    "lr_clf = LogisticRegression()"
   ]
  },
  {
   "cell_type": "code",
   "execution_count": 26,
   "metadata": {
    "execution": {
     "iopub.execute_input": "2020-11-25T10:26:51.315179Z",
     "iopub.status.busy": "2020-11-25T10:26:51.314398Z",
     "iopub.status.idle": "2020-11-25T10:26:51.440663Z",
     "shell.execute_reply": "2020-11-25T10:26:51.440042Z"
    },
    "papermill": {
     "duration": 0.179456,
     "end_time": "2020-11-25T10:26:51.440813",
     "exception": false,
     "start_time": "2020-11-25T10:26:51.261357",
     "status": "completed"
    },
    "tags": []
   },
   "outputs": [],
   "source": [
    "from sklearn.ensemble import AdaBoostClassifier\n",
    "ab_clf = AdaBoostClassifier(n_estimators=200,learning_rate=0.1)"
   ]
  },
  {
   "cell_type": "code",
   "execution_count": 27,
   "metadata": {
    "execution": {
     "iopub.execute_input": "2020-11-25T10:26:51.545531Z",
     "iopub.status.busy": "2020-11-25T10:26:51.544667Z",
     "iopub.status.idle": "2020-11-25T10:26:51.547207Z",
     "shell.execute_reply": "2020-11-25T10:26:51.547688Z"
    },
    "papermill": {
     "duration": 0.058188,
     "end_time": "2020-11-25T10:26:51.547816",
     "exception": false,
     "start_time": "2020-11-25T10:26:51.489628",
     "status": "completed"
    },
    "tags": []
   },
   "outputs": [],
   "source": [
    "from sklearn.ensemble import GradientBoostingClassifier\n",
    "gb_clf = GradientBoostingClassifier(n_estimators=200,learning_rate=0.1)"
   ]
  },
  {
   "cell_type": "code",
   "execution_count": 28,
   "metadata": {
    "execution": {
     "iopub.execute_input": "2020-11-25T10:26:51.651885Z",
     "iopub.status.busy": "2020-11-25T10:26:51.650994Z",
     "iopub.status.idle": "2020-11-25T10:26:51.654425Z",
     "shell.execute_reply": "2020-11-25T10:26:51.653885Z"
    },
    "papermill": {
     "duration": 0.057066,
     "end_time": "2020-11-25T10:26:51.654527",
     "exception": false,
     "start_time": "2020-11-25T10:26:51.597461",
     "status": "completed"
    },
    "tags": []
   },
   "outputs": [],
   "source": [
    "from sklearn.tree import DecisionTreeClassifier\n",
    "dt_clf = DecisionTreeClassifier()"
   ]
  },
  {
   "cell_type": "code",
   "execution_count": 29,
   "metadata": {
    "execution": {
     "iopub.execute_input": "2020-11-25T10:26:51.760622Z",
     "iopub.status.busy": "2020-11-25T10:26:51.759778Z",
     "iopub.status.idle": "2020-11-25T10:26:51.762823Z",
     "shell.execute_reply": "2020-11-25T10:26:51.762310Z"
    },
    "papermill": {
     "duration": 0.058147,
     "end_time": "2020-11-25T10:26:51.762929",
     "exception": false,
     "start_time": "2020-11-25T10:26:51.704782",
     "status": "completed"
    },
    "tags": []
   },
   "outputs": [],
   "source": [
    "from sklearn.linear_model import RidgeClassifier\n",
    "rg_clf = RidgeClassifier(alpha=1.0, class_weight='balanced')\n"
   ]
  },
  {
   "cell_type": "code",
   "execution_count": 30,
   "metadata": {
    "execution": {
     "iopub.execute_input": "2020-11-25T10:26:51.867039Z",
     "iopub.status.busy": "2020-11-25T10:26:51.866214Z",
     "iopub.status.idle": "2020-11-25T10:26:51.869074Z",
     "shell.execute_reply": "2020-11-25T10:26:51.868589Z"
    },
    "papermill": {
     "duration": 0.058122,
     "end_time": "2020-11-25T10:26:51.869168",
     "exception": false,
     "start_time": "2020-11-25T10:26:51.811046",
     "status": "completed"
    },
    "tags": []
   },
   "outputs": [],
   "source": [
    "from sklearn.linear_model import RidgeClassifierCV\n",
    "rgcv_clf = RidgeClassifierCV(cv=10)\n",
    "# rgcv_clf.fit(xtrain,ytrain)"
   ]
  },
  {
   "cell_type": "code",
   "execution_count": 31,
   "metadata": {
    "execution": {
     "iopub.execute_input": "2020-11-25T10:26:51.974937Z",
     "iopub.status.busy": "2020-11-25T10:26:51.974149Z",
     "iopub.status.idle": "2020-11-25T10:26:51.984382Z",
     "shell.execute_reply": "2020-11-25T10:26:51.983867Z"
    },
    "papermill": {
     "duration": 0.064385,
     "end_time": "2020-11-25T10:26:51.984487",
     "exception": false,
     "start_time": "2020-11-25T10:26:51.920102",
     "status": "completed"
    },
    "tags": []
   },
   "outputs": [],
   "source": [
    "from sklearn.naive_bayes import GaussianNB\n",
    "gnb_clf = GaussianNB()\n",
    "# clf.fit(xtrain,ytrain)"
   ]
  },
  {
   "cell_type": "code",
   "execution_count": 32,
   "metadata": {
    "execution": {
     "iopub.execute_input": "2020-11-25T10:26:52.089444Z",
     "iopub.status.busy": "2020-11-25T10:26:52.088746Z",
     "iopub.status.idle": "2020-11-25T10:26:52.255323Z",
     "shell.execute_reply": "2020-11-25T10:26:52.254686Z"
    },
    "papermill": {
     "duration": 0.220962,
     "end_time": "2020-11-25T10:26:52.255457",
     "exception": false,
     "start_time": "2020-11-25T10:26:52.034495",
     "status": "completed"
    },
    "tags": []
   },
   "outputs": [],
   "source": [
    "from catboost import CatBoostClassifier\n",
    "cb_clf = CatBoostClassifier(learning_rate = 0.001,iterations = 2,verbose=False)"
   ]
  },
  {
   "cell_type": "code",
   "execution_count": 33,
   "metadata": {
    "execution": {
     "iopub.execute_input": "2020-11-25T10:26:52.363955Z",
     "iopub.status.busy": "2020-11-25T10:26:52.363151Z",
     "iopub.status.idle": "2020-11-25T10:26:52.366301Z",
     "shell.execute_reply": "2020-11-25T10:26:52.365777Z"
    },
    "papermill": {
     "duration": 0.05948,
     "end_time": "2020-11-25T10:26:52.366434",
     "exception": false,
     "start_time": "2020-11-25T10:26:52.306954",
     "status": "completed"
    },
    "tags": []
   },
   "outputs": [],
   "source": [
    "from sklearn.metrics import accuracy_score, f1_score\n",
    "def metrics(ytest,ypred):\n",
    "    accuracy = accuracy_score(ytest,ypred)\n",
    "    harmonic_mean = f1_score(ytest,ypred)\n",
    "    return accuracy, harmonic_mean"
   ]
  },
  {
   "cell_type": "markdown",
   "metadata": {
    "papermill": {
     "duration": 0.050952,
     "end_time": "2020-11-25T10:26:52.469761",
     "exception": false,
     "start_time": "2020-11-25T10:26:52.418809",
     "status": "completed"
    },
    "tags": []
   },
   "source": [
    "# Get Result of all Models"
   ]
  },
  {
   "cell_type": "code",
   "execution_count": 34,
   "metadata": {
    "execution": {
     "iopub.execute_input": "2020-11-25T10:26:52.578505Z",
     "iopub.status.busy": "2020-11-25T10:26:52.577674Z",
     "iopub.status.idle": "2020-11-25T10:26:52.580126Z",
     "shell.execute_reply": "2020-11-25T10:26:52.580730Z"
    },
    "papermill": {
     "duration": 0.06095,
     "end_time": "2020-11-25T10:26:52.580843",
     "exception": false,
     "start_time": "2020-11-25T10:26:52.519893",
     "status": "completed"
    },
    "tags": []
   },
   "outputs": [],
   "source": [
    "from sklearn.model_selection import cross_val_score\n",
    "models = [svc_clf, lr_clf, ab_clf, gb_clf, dt_clf,rg_clf, rgcv_clf, gnb_clf,cb_clf] \n",
    "result = pd.DataFrame([],columns=['Model','Accuracy','F1 Score','CV_Accuracy'])\n"
   ]
  },
  {
   "cell_type": "code",
   "execution_count": 35,
   "metadata": {
    "execution": {
     "iopub.execute_input": "2020-11-25T10:26:52.689012Z",
     "iopub.status.busy": "2020-11-25T10:26:52.688131Z",
     "iopub.status.idle": "2020-11-25T10:26:52.690857Z",
     "shell.execute_reply": "2020-11-25T10:26:52.691435Z"
    },
    "papermill": {
     "duration": 0.060888,
     "end_time": "2020-11-25T10:26:52.691579",
     "exception": false,
     "start_time": "2020-11-25T10:26:52.630691",
     "status": "completed"
    },
    "tags": []
   },
   "outputs": [],
   "source": [
    "def get_model_result(model, model_id, cv_unit):\n",
    "    model.fit(xtrain,ytrain)\n",
    "    ypred = model.predict(xtest)\n",
    "    accuracy, f1_score = metrics(ytest,ypred)\n",
    "    cv_accuracy = cross_val_score(model, xtrain, ytrain, scoring='accuracy', cv=cv_unit)\n",
    "    result.loc[model_id] = [str(model),accuracy, f1_score, cv_accuracy.mean()]\n",
    "    "
   ]
  },
  {
   "cell_type": "code",
   "execution_count": 36,
   "metadata": {
    "execution": {
     "iopub.execute_input": "2020-11-25T10:26:52.804796Z",
     "iopub.status.busy": "2020-11-25T10:26:52.803806Z",
     "iopub.status.idle": "2020-11-25T10:27:36.632103Z",
     "shell.execute_reply": "2020-11-25T10:27:36.632696Z"
    },
    "papermill": {
     "duration": 43.887615,
     "end_time": "2020-11-25T10:27:36.632861",
     "exception": false,
     "start_time": "2020-11-25T10:26:52.745246",
     "status": "completed"
    },
    "tags": []
   },
   "outputs": [
    {
     "data": {
      "text/html": [
       "<div>\n",
       "<style scoped>\n",
       "    .dataframe tbody tr th:only-of-type {\n",
       "        vertical-align: middle;\n",
       "    }\n",
       "\n",
       "    .dataframe tbody tr th {\n",
       "        vertical-align: top;\n",
       "    }\n",
       "\n",
       "    .dataframe thead th {\n",
       "        text-align: right;\n",
       "    }\n",
       "</style>\n",
       "<table border=\"1\" class=\"dataframe\">\n",
       "  <thead>\n",
       "    <tr style=\"text-align: right;\">\n",
       "      <th></th>\n",
       "      <th>Model</th>\n",
       "      <th>Accuracy</th>\n",
       "      <th>F1 Score</th>\n",
       "      <th>CV_Accuracy</th>\n",
       "    </tr>\n",
       "  </thead>\n",
       "  <tbody>\n",
       "    <tr>\n",
       "      <th>0</th>\n",
       "      <td>SVC(gamma='auto')</td>\n",
       "      <td>0.845455</td>\n",
       "      <td>0.870229</td>\n",
       "      <td>0.865909</td>\n",
       "    </tr>\n",
       "    <tr>\n",
       "      <th>1</th>\n",
       "      <td>LogisticRegression()</td>\n",
       "      <td>0.927273</td>\n",
       "      <td>0.934426</td>\n",
       "      <td>0.915909</td>\n",
       "    </tr>\n",
       "    <tr>\n",
       "      <th>2</th>\n",
       "      <td>AdaBoostClassifier(learning_rate=0.1, n_estima...</td>\n",
       "      <td>0.863636</td>\n",
       "      <td>0.873950</td>\n",
       "      <td>0.870455</td>\n",
       "    </tr>\n",
       "    <tr>\n",
       "      <th>3</th>\n",
       "      <td>GradientBoostingClassifier(n_estimators=200)</td>\n",
       "      <td>0.872727</td>\n",
       "      <td>0.885246</td>\n",
       "      <td>0.890909</td>\n",
       "    </tr>\n",
       "    <tr>\n",
       "      <th>4</th>\n",
       "      <td>DecisionTreeClassifier()</td>\n",
       "      <td>0.836364</td>\n",
       "      <td>0.857143</td>\n",
       "      <td>0.852273</td>\n",
       "    </tr>\n",
       "    <tr>\n",
       "      <th>5</th>\n",
       "      <td>RidgeClassifier(class_weight='balanced')</td>\n",
       "      <td>0.909091</td>\n",
       "      <td>0.915254</td>\n",
       "      <td>0.902273</td>\n",
       "    </tr>\n",
       "    <tr>\n",
       "      <th>6</th>\n",
       "      <td>RidgeClassifierCV(alphas=array([ 0.1,  1. , 10...</td>\n",
       "      <td>0.927273</td>\n",
       "      <td>0.932203</td>\n",
       "      <td>0.913636</td>\n",
       "    </tr>\n",
       "    <tr>\n",
       "      <th>7</th>\n",
       "      <td>GaussianNB()</td>\n",
       "      <td>0.890909</td>\n",
       "      <td>0.903226</td>\n",
       "      <td>0.884091</td>\n",
       "    </tr>\n",
       "    <tr>\n",
       "      <th>8</th>\n",
       "      <td>&lt;catboost.core.CatBoostClassifier object at 0x...</td>\n",
       "      <td>0.745455</td>\n",
       "      <td>0.770492</td>\n",
       "      <td>0.756818</td>\n",
       "    </tr>\n",
       "  </tbody>\n",
       "</table>\n",
       "</div>"
      ],
      "text/plain": [
       "                                               Model  Accuracy  F1 Score  \\\n",
       "0                                  SVC(gamma='auto')  0.845455  0.870229   \n",
       "1                               LogisticRegression()  0.927273  0.934426   \n",
       "2  AdaBoostClassifier(learning_rate=0.1, n_estima...  0.863636  0.873950   \n",
       "3       GradientBoostingClassifier(n_estimators=200)  0.872727  0.885246   \n",
       "4                           DecisionTreeClassifier()  0.836364  0.857143   \n",
       "5           RidgeClassifier(class_weight='balanced')  0.909091  0.915254   \n",
       "6  RidgeClassifierCV(alphas=array([ 0.1,  1. , 10...  0.927273  0.932203   \n",
       "7                                       GaussianNB()  0.890909  0.903226   \n",
       "8  <catboost.core.CatBoostClassifier object at 0x...  0.745455  0.770492   \n",
       "\n",
       "   CV_Accuracy  \n",
       "0     0.865909  \n",
       "1     0.915909  \n",
       "2     0.870455  \n",
       "3     0.890909  \n",
       "4     0.852273  \n",
       "5     0.902273  \n",
       "6     0.913636  \n",
       "7     0.884091  \n",
       "8     0.756818  "
      ]
     },
     "execution_count": 36,
     "metadata": {},
     "output_type": "execute_result"
    }
   ],
   "source": [
    "for model_id, model in enumerate(models):\n",
    "    get_model_result(model, model_id, cv_unit=10)\n",
    "    \n",
    "result"
   ]
  },
  {
   "cell_type": "markdown",
   "metadata": {
    "papermill": {
     "duration": 0.058951,
     "end_time": "2020-11-25T10:27:36.750495",
     "exception": false,
     "start_time": "2020-11-25T10:27:36.691544",
     "status": "completed"
    },
    "tags": []
   },
   "source": [
    "# StackingCV Classifier"
   ]
  },
  {
   "cell_type": "code",
   "execution_count": 37,
   "metadata": {
    "execution": {
     "iopub.execute_input": "2020-11-25T10:27:36.878513Z",
     "iopub.status.busy": "2020-11-25T10:27:36.877490Z",
     "iopub.status.idle": "2020-11-25T10:28:20.458884Z",
     "shell.execute_reply": "2020-11-25T10:28:20.458197Z"
    },
    "papermill": {
     "duration": 43.649562,
     "end_time": "2020-11-25T10:28:20.459042",
     "exception": false,
     "start_time": "2020-11-25T10:27:36.809480",
     "status": "completed"
    },
    "tags": []
   },
   "outputs": [],
   "source": [
    "from mlxtend.classifier import StackingCVClassifier\n",
    "stack_gen = StackingCVClassifier(classifiers=models,\n",
    "                                meta_classifier=lr_clf,\n",
    "                                use_features_in_secondary=True,cv=10)\n",
    "stack_gen.fit(np.array(xtrain),np.array(ytrain))\n",
    "ypred = stack_gen.predict(np.array(xtest))\n",
    "\n"
   ]
  },
  {
   "cell_type": "code",
   "execution_count": 38,
   "metadata": {
    "execution": {
     "iopub.execute_input": "2020-11-25T10:28:20.575736Z",
     "iopub.status.busy": "2020-11-25T10:28:20.574540Z",
     "iopub.status.idle": "2020-11-25T10:28:20.579092Z",
     "shell.execute_reply": "2020-11-25T10:28:20.579670Z"
    },
    "papermill": {
     "duration": 0.066996,
     "end_time": "2020-11-25T10:28:20.579818",
     "exception": false,
     "start_time": "2020-11-25T10:28:20.512822",
     "status": "completed"
    },
    "tags": []
   },
   "outputs": [
    {
     "name": "stdout",
     "output_type": "stream",
     "text": [
      "StackingCV Accuracy 0.9363636363636364 and F1 Score 0.9421487603305785\n"
     ]
    }
   ],
   "source": [
    "accuracy, f1_score_value = metrics(ytest,ypred)\n",
    "print('StackingCV Accuracy {} and F1 Score {}'.format(accuracy,f1_score_value))"
   ]
  }
 ],
 "metadata": {
  "kernelspec": {
   "display_name": "Python 3",
   "language": "python",
   "name": "python3"
  },
  "language_info": {
   "codemirror_mode": {
    "name": "ipython",
    "version": 3
   },
   "file_extension": ".py",
   "mimetype": "text/x-python",
   "name": "python",
   "nbconvert_exporter": "python",
   "pygments_lexer": "ipython3",
   "version": "3.7.6"
  },
  "papermill": {
   "duration": 102.198486,
   "end_time": "2020-11-25T10:28:20.740750",
   "environment_variables": {},
   "exception": null,
   "input_path": "__notebook__.ipynb",
   "output_path": "__notebook__.ipynb",
   "parameters": {},
   "start_time": "2020-11-25T10:26:38.542264",
   "version": "2.1.0"
  }
 },
 "nbformat": 4,
 "nbformat_minor": 4
}
